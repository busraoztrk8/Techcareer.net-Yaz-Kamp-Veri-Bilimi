{
  "nbformat": 4,
  "nbformat_minor": 0,
  "metadata": {
    "colab": {
      "provenance": []
    },
    "kernelspec": {
      "name": "python3",
      "display_name": "Python 3"
    },
    "language_info": {
      "name": "python"
    }
  },
  "cells": [
    {
      "cell_type": "code",
      "execution_count": 2,
      "metadata": {
        "colab": {
          "base_uri": "https://localhost:8080/"
        },
        "id": "hfZOqeClbx7m",
        "outputId": "8d717bbd-5cdc-42f7-db31-1926c37baef6"
      },
      "outputs": [
        {
          "output_type": "stream",
          "name": "stdout",
          "text": [
            "Benzersiz Notlar: [100, 92, 85, 76]\n",
            "En Yüksek Not: 100\n",
            "En Düşük Not: 76\n",
            "Sıralanmış Notlar: [76, 85, 92, 100]\n"
          ]
        }
      ],
      "source": [
        "notlar = [85, 92, 76, 92, 100, 76, 85, 92]\n",
        "benzersiz_notlar = list(set(notlar))\n",
        "print(f\"Benzersiz Notlar: {benzersiz_notlar}\")\n",
        "\n",
        "# 2. En yüksek ve en düşük notu bulur.\n",
        "en_yuksek_not = max(benzersiz_notlar)\n",
        "en_dusuk_not = min(benzersiz_notlar)\n",
        "print(f\"En Yüksek Not: {en_yuksek_not}\")\n",
        "print(f\"En Düşük Not: {en_dusuk_not}\")\n",
        "\n",
        "# 3. Notları küçükten büyüğe sıralar.\n",
        "benzersiz_notlar.sort()\n",
        "print(f\"Sıralanmış Notlar: {benzersiz_notlar}\")"
      ]
    },
    {
      "cell_type": "code",
      "source": [
        "def armstrong_kontrol(sayi):\n",
        "    \"\"\"\n",
        "    Bir sayının Armstrong sayısı olup olmadığını kontrol eder.\n",
        "    \"\"\"\n",
        "    sayi_str = str(sayi)\n",
        "    basamak_sayisi = len(sayi_str)\n",
        "    toplam = 0\n",
        "    for rakam in sayi_str:\n",
        "        toplam += int(rakam) ** basamak_sayisi\n",
        "\n",
        "    if toplam == sayi:\n",
        "        return True\n",
        "    else:\n",
        "        return False\n",
        "\n",
        "# Test edelim\n",
        "sayi1 = 153\n",
        "sayi2 = 1634\n",
        "sayi3 = 120\n",
        "\n",
        "print(f\"{sayi1} bir Armstrong sayısı mı? -> {armstrong_kontrol(sayi1)}\")\n",
        "print(f\"{sayi2} bir Armstrong sayısı mı? -> {armstrong_kontrol(sayi2)}\")\n",
        "print(f\"{sayi3} bir Armstrong sayısı mı? -> {armstrong_kontrol(sayi3)}\")"
      ],
      "metadata": {
        "colab": {
          "base_uri": "https://localhost:8080/"
        },
        "id": "1wAjrPMTc3dt",
        "outputId": "c74f1de9-2046-4b34-e781-3659c8e3ed27"
      },
      "execution_count": 3,
      "outputs": [
        {
          "output_type": "stream",
          "name": "stdout",
          "text": [
            "153 bir Armstrong sayısı mı? -> True\n",
            "1634 bir Armstrong sayısı mı? -> True\n",
            "120 bir Armstrong sayısı mı? -> False\n"
          ]
        }
      ]
    },
    {
      "cell_type": "code",
      "source": [
        "A = {\"Python\", \"R\", \"SQL\", \"Java\"}\n",
        "B = {\"C++\", \"Python\", \"JavaScript\", \"SQL\"}\n",
        "\n",
        "# 1. Ortak dilleri bulunur\n",
        "ortak_diller = A.intersection(B)\n",
        "print(f\"Ortak Diller: {ortak_diller}\")\n",
        "\n",
        "# 2. Sadece A'da olan dilleri listeler.\n",
        "sadece_a_da_olanlar = A.difference(B)\n",
        "print(f\"Sadece A Kümesinde Olan Diller: {sadece_a_da_olanlar}\")\n",
        "\n",
        "# 3. İki kümenin birleşimini alfabetik olarak yazdırır.\n",
        "birlesim = sorted(list(A.union(B)))\n",
        "print(f\"İki Kümenin Alfabetik Sıralanmış Birleşimi: {birlesim}\")"
      ],
      "metadata": {
        "colab": {
          "base_uri": "https://localhost:8080/"
        },
        "id": "6KUzWF4Oc-9V",
        "outputId": "5adb07ce-e3fa-48af-d65f-4f34fbc4a3a3"
      },
      "execution_count": 4,
      "outputs": [
        {
          "output_type": "stream",
          "name": "stdout",
          "text": [
            "Ortak Diller: {'Python', 'SQL'}\n",
            "Sadece A Kümesinde Olan Diller: {'R', 'Java'}\n",
            "İki Kümenin Alfabetik Sıralanmış Birleşimi: ['C++', 'Java', 'JavaScript', 'Python', 'R', 'SQL']\n"
          ]
        }
      ]
    },
    {
      "cell_type": "code",
      "source": [
        "import random\n",
        "import statistics\n",
        "\n",
        "# 1. 1-100 arasında 10 rastgele sayı üretir.\n",
        "rastgele_sayilar = [random.randint(1, 100) for _ in range(10)]\n",
        "print(f\"Üretilen Rastgele Sayılar: {rastgele_sayilar}\")\n",
        "\n",
        "# 2. Bu sayıların ortalamasını ve standart sapmasını hesaplar.\n",
        "ortalama = statistics.mean(rastgele_sayilar)\n",
        "standart_sapma = statistics.stdev(rastgele_sayilar)\n",
        "\n",
        "print(f\"Sayıların Ortalaması: {ortalama}\")\n",
        "print(f\"Sayıların Standart Sapması: {standart_sapma:.2f}\")"
      ],
      "metadata": {
        "colab": {
          "base_uri": "https://localhost:8080/"
        },
        "id": "60f96IHkdJMT",
        "outputId": "bf6940fd-fc7e-4477-d1c4-2e724cc97194"
      },
      "execution_count": 5,
      "outputs": [
        {
          "output_type": "stream",
          "name": "stdout",
          "text": [
            "Üretilen Rastgele Sayılar: [28, 25, 90, 93, 6, 42, 36, 64, 8, 96]\n",
            "Sayıların Ortalaması: 48.8\n",
            "Sayıların Standart Sapması: 34.67\n"
          ]
        }
      ]
    },
    {
      "cell_type": "code",
      "source": [
        "from collections import Counter\n",
        "def kelime_sayaci(metin):\n",
        "    \"\"\"\n",
        "    Verilen metindeki toplam kelime sayısını, en uzun kelimeyi ve\n",
        "    en sık geçen kelimeyi döndürür.\n",
        "    \"\"\"\n",
        "    kelimeler = metin.split()\n",
        "\n",
        "    # Toplam kelime sayısı\n",
        "    toplam_kelime = len(kelimeler)\n",
        "\n",
        "    # En uzun kelime\n",
        "    en_uzun = max(kelimeler, key=len)\n",
        "\n",
        "    # En sık geçen kelime\n",
        "    en_sik_gecen = Counter(kelimeler).most_common(1)[0][0]\n",
        "\n",
        "    return {\n",
        "        \"Toplam Kelime Sayısı\": toplam_kelime,\n",
        "        \"En Uzun Kelime\": en_uzun,\n",
        "        \"En Sık Geçen Kelime\": en_sik_gecen\n",
        "    }\n",
        "\n",
        "ornek_metin = \"veri bilimi ve yapay zeka günümüzün en popüler alanları arasında yer alan iki önemli disiplindir veri her yerdedir\"\n",
        "sonuc = kelime_sayaci(ornek_metin)\n",
        "print(sonuc)"
      ],
      "metadata": {
        "colab": {
          "base_uri": "https://localhost:8080/"
        },
        "id": "9FtMQCKgdNsU",
        "outputId": "bebd10b8-160a-490f-8b2e-a041a3483bd6"
      },
      "execution_count": 6,
      "outputs": [
        {
          "output_type": "stream",
          "name": "stdout",
          "text": [
            "{'Toplam Kelime Sayısı': 18, 'En Uzun Kelime': 'disiplindir', 'En Sık Geçen Kelime': 'veri'}\n"
          ]
        }
      ]
    },
    {
      "cell_type": "code",
      "source": [
        "sayilar = [5, 12, 7, 18, 24, 3, 16]\n",
        "\n",
        "# 1. Sadece çift sayıları filtreleyin.\n",
        "cift_sayilar = list(filter(lambda x: x % 2 == 0, sayilar))\n",
        "print(f\"Çift Sayılar: {cift_sayilar}\")\n",
        "\n",
        "# 2. Bu sayıların karelerini bulun. (Çift sayıların kareleri)\n",
        "kareler = list(map(lambda x: x**2, cift_sayilar))\n",
        "print(f\"Çift Sayıların Kareleri: {kareler}\")\n",
        "\n",
        "# 3. Karelerini azalan sırada sıralayın.\n",
        "azalan_sirali_kareler = sorted(kareler, reverse=True)\n",
        "print(f\"Karelerin Azalan Sırada Sıralanması: {azalan_sirali_kareler}\")"
      ],
      "metadata": {
        "colab": {
          "base_uri": "https://localhost:8080/"
        },
        "id": "yvLf67GsdRuI",
        "outputId": "9f329fbc-c799-47c0-bdd5-d4177eead6a3"
      },
      "execution_count": 7,
      "outputs": [
        {
          "output_type": "stream",
          "name": "stdout",
          "text": [
            "Çift Sayılar: [12, 18, 24, 16]\n",
            "Çift Sayıların Kareleri: [144, 324, 576, 256]\n",
            "Karelerin Azalan Sırada Sıralanması: [576, 324, 256, 144]\n"
          ]
        }
      ]
    },
    {
      "cell_type": "code",
      "source": [
        "kelimeler = [\"veri\", \"bilim\", \"analiz\", \"yapayzeka\", \"python\"]\n",
        "\n",
        "# Listeyi kelime uzunluğuna göre küçükten büyüğe sırala\n",
        "uzunluga_gore_sirali = sorted(kelimeler, key=lambda kelime: len(kelime))\n",
        "print(f\"Uzunluklarına Göre Sıralanmış Kelimeler: {uzunluga_gore_sirali}\")"
      ],
      "metadata": {
        "colab": {
          "base_uri": "https://localhost:8080/"
        },
        "id": "2oGBt97AdY8h",
        "outputId": "579f6271-0f99-43a3-8714-0083ea09338d"
      },
      "execution_count": 8,
      "outputs": [
        {
          "output_type": "stream",
          "name": "stdout",
          "text": [
            "Uzunluklarına Göre Sıralanmış Kelimeler: ['veri', 'bilim', 'analiz', 'python', 'yapayzeka']\n"
          ]
        }
      ]
    },
    {
      "cell_type": "code",
      "source": [
        "import re\n",
        "def metindeki_sayilari_topla(metin):\n",
        "    \"\"\"\n",
        "    Bir string içinde geçen tüm rakamları (sayıları) bulur ve bunların\n",
        "    toplamını döndürür. Örn: \"abc12def3\" -> 15\n",
        "    \"\"\"\n",
        "    # \\d+ ifadesi bir veya daha fazla basamaktan oluşan sayıları bulur\n",
        "    sayilar = re.findall(r'\\d+', metin)\n",
        "    # Bulunan string halindeki sayıları integer'a çevirip toplar\n",
        "    toplam = sum([int(s) for s in sayilar])\n",
        "    return toplam\n",
        "\n",
        "# Test edelim\n",
        "ornek_metin = \"Bu üründen 12 adet, diğerinden ise 3 adet aldım. Toplamda 15 yaptı.\"\n",
        "print(f\"Metindeki sayıların toplamı: {metindeki_sayilari_topla(ornek_metin)}\")\n",
        "print(f\"'abc12def3' -> {metindeki_sayilari_topla('abc12def3')}\")"
      ],
      "metadata": {
        "colab": {
          "base_uri": "https://localhost:8080/"
        },
        "id": "x_HWdccddbKK",
        "outputId": "1b7c30e1-3e38-4c19-84f3-d59d73ecd12b"
      },
      "execution_count": 9,
      "outputs": [
        {
          "output_type": "stream",
          "name": "stdout",
          "text": [
            "Metindeki sayıların toplamı: 30\n",
            "'abc12def3' -> 15\n"
          ]
        }
      ]
    },
    {
      "cell_type": "code",
      "source": [
        "import numpy as np\n",
        "# 1. 0-50 arasında rastgele sayılardan oluşan 10 elemanlı bir numpy dizisi\n",
        "dizi = np.random.randint(0, 51, 10)\n",
        "print(f\"Oluşturulan Numpy Dizisi: {dizi}\")\n",
        "\n",
        "# 2. Dizinin ortalaması, standart sapması ve en büyük değeri\n",
        "ortalama = dizi.mean()\n",
        "standart_sapma = dizi.std()\n",
        "en_buyuk = dizi.max()\n",
        "\n",
        "print(f\"Dizinin Ortalaması: {ortalama}\")\n",
        "print(f\"Dizinin Standart Sapması: {standart_sapma:.2f}\")\n",
        "print(f\"Dizinin En Büyük Değeri: {en_buyuk}\")"
      ],
      "metadata": {
        "colab": {
          "base_uri": "https://localhost:8080/"
        },
        "id": "wr9KVct-de7P",
        "outputId": "399cef66-ced4-43c8-f6e3-e77ee02ae989"
      },
      "execution_count": 10,
      "outputs": [
        {
          "output_type": "stream",
          "name": "stdout",
          "text": [
            "Oluşturulan Numpy Dizisi: [32  1 41 22 21 22  1 27 46 34]\n",
            "Dizinin Ortalaması: 24.7\n",
            "Dizinin Standart Sapması: 14.20\n",
            "Dizinin En Büyük Değeri: 46\n"
          ]
        }
      ]
    },
    {
      "cell_type": "code",
      "source": [
        "import numpy as np\n",
        "\n",
        "# 5x5 boyutunda rastgele 0–1 arasında değerlerden oluşan matris\n",
        "matris = np.random.rand(5, 5)\n",
        "print(\"Orijinal Matris:\\n\", matris)\n",
        "\n",
        "# 1. Her sütunun ortalaması\n",
        "sutun_ortalamalari = matris.mean(axis=0)\n",
        "print(\"\\nHer Sütunun Ortalaması:\", sutun_ortalamalari)\n",
        "\n",
        "# 2. 0.5'ten büyük olanları 1, küçük/eşit olanları 0 yaparak binary matris oluşturma\n",
        "binary_matris = (matris > 0.5).astype(int)\n",
        "print(\"\\nBinary Matris:\\n\", binary_matris)"
      ],
      "metadata": {
        "colab": {
          "base_uri": "https://localhost:8080/"
        },
        "id": "3Dt0tT-Bdss_",
        "outputId": "af192602-92ac-4ca7-b77f-4075057fe126"
      },
      "execution_count": 11,
      "outputs": [
        {
          "output_type": "stream",
          "name": "stdout",
          "text": [
            "Orijinal Matris:\n",
            " [[0.60339589 0.11060275 0.38052308 0.82439781 0.04089715]\n",
            " [0.01062507 0.9475006  0.93832039 0.83933441 0.26365457]\n",
            " [0.04311731 0.30423707 0.73848994 0.87438081 0.54173301]\n",
            " [0.99014087 0.66586602 0.0394599  0.01714847 0.27260516]\n",
            " [0.02857709 0.83377494 0.97205339 0.83977681 0.97889191]]\n",
            "\n",
            "Her Sütunun Ortalaması: [0.33517124 0.57239628 0.61376934 0.67900766 0.41955636]\n",
            "\n",
            "Binary Matris:\n",
            " [[1 0 0 1 0]\n",
            " [0 1 1 1 0]\n",
            " [0 0 1 1 1]\n",
            " [1 1 0 0 0]\n",
            " [0 1 1 1 1]]\n"
          ]
        }
      ]
    },
    {
      "cell_type": "code",
      "source": [
        "import statistics\n",
        "import random\n",
        "from collections import Counter\n",
        "\n",
        "kitaplar = [\n",
        "    {\"isim\": \"Veri Bilimi 101\", \"yazar\": \"Ali\", \"tur\": \"Bilim\", \"satis\": 1200, \"yil\": 2021},\n",
        "    {\"isim\": \"Python ile Yapay Zeka\", \"yazar\": \"Ayşe\", \"tur\": \"Bilim\", \"satis\": 950, \"yil\": 2020},\n",
        "    {\"isim\": \"İstatistik Temelleri\", \"yazar\": \"Ali\", \"tur\": \"Akademik\", \"satis\": 700, \"yil\": 2019},\n",
        "    {\"isim\": \"Makine Öğrenmesi\", \"yazar\": \"Can\", \"tur\": \"Bilim\", \"satis\": 1800, \"yil\": 2022},\n",
        "    {\"isim\": \"Veri Görselleştirme\", \"yazar\": \"Deniz\", \"tur\": \"Sanat\", \"satis\": 400, \"yil\": 2018},\n",
        "    {\"isim\": \"Matematiksel Modelleme\", \"yazar\": \"Ali\", \"tur\": \"Akademik\", \"satis\": 1500, \"yil\": 2021},\n",
        "    {\"isim\": \"Bilgi Toplumu\", \"yazar\": \"Ayşe\", \"tur\": \"Sosyal\", \"satis\": 600, \"yil\": 2022}\n",
        "]\n",
        "\n",
        "# 1. Fonksiyon Yazma\n",
        "def en_cok_satan(kitap_listesi):\n",
        "    return max(kitap_listesi, key=lambda x: x['satis'])\n",
        "\n",
        "def yazar_satislari(kitap_listesi):\n",
        "    satislar = {}\n",
        "    for kitap in kitap_listesi:\n",
        "        yazar = kitap['yazar']\n",
        "        satis = kitap['satis']\n",
        "        satislar[yazar] = satislar.get(yazar, 0) + satis\n",
        "    return satislar\n",
        "\n",
        "print(\"--- 1. Fonksiyonlar ---\")\n",
        "print(f\"En Çok Satan Kitap: {en_cok_satan(kitaplar)['isim']}\")\n",
        "print(f\"Yazar Satışları: {yazar_satislari(kitaplar)}\")\n",
        "\n",
        "# 2. Liste ve Küme İşlemleri\n",
        "tum_turler = {kitap['tur'] for kitap in kitaplar}\n",
        "binden_fazla_satanlar = [kitap['isim'] for kitap in kitaplar if kitap['satis'] > 1000]\n",
        "\n",
        "print(\"\\n--- 2. Liste ve Küme İşlemleri ---\")\n",
        "print(f\"Tüm Kitap Türleri: {tum_turler}\")\n",
        "print(f\"1000'den Fazla Satan Kitaplar: {binden_fazla_satanlar}\")\n",
        "\n",
        "# 3. Lambda / Filter / Map Kullanımı\n",
        "yeni_kitaplar = list(filter(lambda x: x['yil'] > 2020, kitaplar))\n",
        "artirilmis_satislar = list(map(lambda x: x['satis'] * 1.1, kitaplar))\n",
        "satisa_gore_sirali = sorted(kitaplar, key=lambda x: x['satis'], reverse=True)\n",
        "\n",
        "print(\"\\n--- 3. Lambda / Filter / Map ---\")\n",
        "print(\"2020'den Sonra Çıkan Kitaplar:\")\n",
        "for kitap in yeni_kitaplar:\n",
        "    print(f\"- {kitap['isim']} ({kitap['yil']})\")\n",
        "\n",
        "print(f\"\\n%10 Artırılmış Satış Adetleri: {[f'{s:.1f}' for s in artirilmis_satislar]}\")\n",
        "\n",
        "print(\"\\nSatış Miktarına Göre Sıralanmış Kitaplar:\")\n",
        "for kitap in satisa_gore_sirali:\n",
        "    print(f\"- {kitap['isim']} ({kitap['satis']})\")\n",
        "\n",
        "# 4. İstatistiksel Analiz\n",
        "satis_adetleri = [kitap['satis'] for kitap in kitaplar]\n",
        "ortalama_satis = statistics.mean(satis_adetleri)\n",
        "standart_sapma_satis = statistics.stdev(satis_adetleri)\n",
        "\n",
        "turler = [kitap['tur'] for kitap in kitaplar]\n",
        "en_cok_satan_tur = Counter(turler).most_common(1)[0][0]\n",
        "\n",
        "print(\"\\n--- 4. İstatistiksel Analiz ---\")\n",
        "print(f\"Ortalama Satış Adedi: {ortalama_satis:.2f}\")\n",
        "print(f\"En Çok Satış Yapan Tür: {en_cok_satan_tur}\")\n",
        "print(f\"Satışların Standart Sapması: {standart_sapma_satis:.2f}\")\n",
        "\n",
        "# 5. Ekstra (Zorlayıcı): Train/Test Simülasyonu\n",
        "print(\"\\n--- 5. Train/Test Simülasyonu ---\")\n",
        "# Veriyi %70 train, %30 test olarak ayır\n",
        "test_eleman_sayisi = int(len(kitaplar) * 0.3)\n",
        "train_set = random.sample(kitaplar, k=len(kitaplar) - test_eleman_sayisi)\n",
        "test_set = [kitap for kitap in kitaplar if kitap not in train_set]\n",
        "\n",
        "print(f\"Train setinde {len(train_set)}, test setinde {len(test_set)} kitap var.\")\n",
        "\n",
        "# Eğitim verisinden yazarların ortalama satışını hesaplar\n",
        "yazar_ortalamalari = {}\n",
        "yazar_satis_listeleri = {yazar: [] for yazar in yazar_satislari(train_set).keys()}\n",
        "\n",
        "for kitap in train_set:\n",
        "    yazar_satis_listeleri[kitap['yazar']].append(kitap['satis'])\n",
        "\n",
        "for yazar, satislar in yazar_satis_listeleri.items():\n",
        "    if satislar:\n",
        "        yazar_ortalamalari[yazar] = statistics.mean(satislar)\n",
        "\n",
        "print(\"\\nEğitim Setindeki Yazar Ortalama Satışları:\", yazar_ortalamalari)\n",
        "\n",
        "# Test verisinde, hangi kitapların satışlarının bu ortalamanın üzerinde olduğunu kontrol et\n",
        "print(\"\\nTest Seti Analizi:\")\n",
        "for kitap in test_set:\n",
        "    yazar = kitap['yazar']\n",
        "    satis = kitap['satis']\n",
        "    if yazar in yazar_ortalamalari:\n",
        "        ortalama = yazar_ortalamalari[yazar]\n",
        "        if satis > ortalama:\n",
        "            print(f\"- '{kitap['isim']}' kitabının satışı ({satis}), yazarının ortalamasının ({ortalama:.2f}) üzerindedir.\")\n",
        "        else:\n",
        "             print(f\"- '{kitap['isim']}' kitabının satışı ({satis}), yazarının ortalamasının ({ortalama:.2f}) altında veya eşittir.\")\n",
        "    else:\n",
        "        print(f\"- '{kitap['isim']}' kitabının yazarı ({yazar}) eğitim setinde bulunmuyor, karşılaştırma yapılamadı.\")"
      ],
      "metadata": {
        "colab": {
          "base_uri": "https://localhost:8080/"
        },
        "id": "L6-7wV1_dwpP",
        "outputId": "b94f64a5-2485-4cb7-a157-7c748915768a"
      },
      "execution_count": 12,
      "outputs": [
        {
          "output_type": "stream",
          "name": "stdout",
          "text": [
            "--- 1. Fonksiyonlar ---\n",
            "En Çok Satan Kitap: Makine Öğrenmesi\n",
            "Yazar Satışları: {'Ali': 3400, 'Ayşe': 1550, 'Can': 1800, 'Deniz': 400}\n",
            "\n",
            "--- 2. Liste ve Küme İşlemleri ---\n",
            "Tüm Kitap Türleri: {'Sanat', 'Akademik', 'Sosyal', 'Bilim'}\n",
            "1000'den Fazla Satan Kitaplar: ['Veri Bilimi 101', 'Makine Öğrenmesi', 'Matematiksel Modelleme']\n",
            "\n",
            "--- 3. Lambda / Filter / Map ---\n",
            "2020'den Sonra Çıkan Kitaplar:\n",
            "- Veri Bilimi 101 (2021)\n",
            "- Makine Öğrenmesi (2022)\n",
            "- Matematiksel Modelleme (2021)\n",
            "- Bilgi Toplumu (2022)\n",
            "\n",
            "%10 Artırılmış Satış Adetleri: ['1320.0', '1045.0', '770.0', '1980.0', '440.0', '1650.0', '660.0']\n",
            "\n",
            "Satış Miktarına Göre Sıralanmış Kitaplar:\n",
            "- Makine Öğrenmesi (1800)\n",
            "- Matematiksel Modelleme (1500)\n",
            "- Veri Bilimi 101 (1200)\n",
            "- Python ile Yapay Zeka (950)\n",
            "- İstatistik Temelleri (700)\n",
            "- Bilgi Toplumu (600)\n",
            "- Veri Görselleştirme (400)\n",
            "\n",
            "--- 4. İstatistiksel Analiz ---\n",
            "Ortalama Satış Adedi: 1021.43\n",
            "En Çok Satış Yapan Tür: Bilim\n",
            "Satışların Standart Sapması: 506.51\n",
            "\n",
            "--- 5. Train/Test Simülasyonu ---\n",
            "Train setinde 5, test setinde 2 kitap var.\n",
            "\n",
            "Eğitim Setindeki Yazar Ortalama Satışları: {'Ali': 1350, 'Ayşe': 775, 'Deniz': 400}\n",
            "\n",
            "Test Seti Analizi:\n",
            "- 'İstatistik Temelleri' kitabının satışı (700), yazarının ortalamasının (1350.00) altında veya eşittir.\n",
            "- 'Makine Öğrenmesi' kitabının yazarı (Can) eğitim setinde bulunmuyor, karşılaştırma yapılamadı.\n"
          ]
        }
      ]
    },
    {
      "cell_type": "code",
      "source": [],
      "metadata": {
        "id": "EuToHxbOdym5"
      },
      "execution_count": null,
      "outputs": []
    }
  ]
}