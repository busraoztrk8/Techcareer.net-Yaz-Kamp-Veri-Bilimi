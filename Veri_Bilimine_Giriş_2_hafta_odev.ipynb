{
  "nbformat": 4,
  "nbformat_minor": 0,
  "metadata": {
    "colab": {
      "provenance": []
    },
    "kernelspec": {
      "name": "python3",
      "display_name": "Python 3"
    },
    "language_info": {
      "name": "python"
    }
  },
  "cells": [
    {
      "cell_type": "code",
      "execution_count": 1,
      "metadata": {
        "colab": {
          "base_uri": "https://localhost:8080/"
        },
        "id": "eue0B3GlXvuO",
        "outputId": "cb949dcf-e353-4806-a71f-8491492c4380"
      },
      "outputs": [
        {
          "output_type": "stream",
          "name": "stdout",
          "text": [
            "Lütfen bir sayı giriniz: 27\n",
            "Pozitif Tek\n"
          ]
        }
      ],
      "source": [
        "sayi = int(input(\"Lütfen bir sayı giriniz: \"))\n",
        "if sayi > 0:\n",
        "    sonuc = \"Pozitif\"\n",
        "elif sayi < 0:\n",
        "    sonuc = \"Negatif\"\n",
        "else:\n",
        "    sonuc = \"Sıfır\"\n",
        "\n",
        "if sayi % 2 == 0:\n",
        "    sonuc += \" Çift\"\n",
        "else:\n",
        "    sonuc += \" Tek\"\n",
        "\n",
        "if sayi == 0:\n",
        "    print(\"Sayı Sıfır\")\n",
        "else:\n",
        "    print(sonuc)"
      ]
    },
    {
      "cell_type": "code",
      "source": [
        "kelime = input(\"Lütfen bir kelime giriniz: \")\n",
        "frekans = {}\n",
        "\n",
        "for harf in kelime:\n",
        "    if harf in frekans:\n",
        "        frekans[harf] += 1\n",
        "    else:\n",
        "        frekans[harf] = 1\n",
        "print(frekans)"
      ],
      "metadata": {
        "colab": {
          "base_uri": "https://localhost:8080/"
        },
        "id": "N9s-WhK_ZaSu",
        "outputId": "77e0b0a2-2e8f-4314-c939-2e64e2f11b3d"
      },
      "execution_count": 2,
      "outputs": [
        {
          "output_type": "stream",
          "name": "stdout",
          "text": [
            "Lütfen bir kelime giriniz: selam\n",
            "{'s': 1, 'e': 1, 'l': 1, 'a': 1, 'm': 1}\n"
          ]
        }
      ]
    },
    {
      "cell_type": "code",
      "source": [
        "sifre = input(\"Lütfen bir şifre giriniz: \")\n",
        "\n",
        "uzunluk_kontrolu = len(sifre) >= 8\n",
        "buyuk_harf_kontrolu = any(char.isupper() for char in sifre)\n",
        "rakam_kontrolu = any(char.isdigit() for char in sifre)\n",
        "\n",
        "if uzunluk_kontrolu and buyuk_harf_kontrolu and rakam_kontrolu:\n",
        "    print(\"Şifre geçerli.\")\n",
        "else:\n",
        "    print(\"Şifre geçersiz! Lütfen aşağıdaki kurallara uyun:\")\n",
        "    if not uzunluk_kontrolu:\n",
        "        print(\"- Şifre en az 8 karakter olmalı.\")\n",
        "    if not buyuk_harf_kontrolu:\n",
        "        print(\"- Şifre en az 1 büyük harf içermeli.\")\n",
        "    if not rakam_kontrolu:\n",
        "        print(\"- Şifre en az 1 rakam içermeli.\")"
      ],
      "metadata": {
        "colab": {
          "base_uri": "https://localhost:8080/"
        },
        "id": "hk8ibii3Ziy7",
        "outputId": "2acb71df-8df7-4e26-d102-9955bb010be0"
      },
      "execution_count": 4,
      "outputs": [
        {
          "output_type": "stream",
          "name": "stdout",
          "text": [
            "Lütfen bir şifre giriniz: Busra123\n",
            "Şifre geçerli.\n"
          ]
        }
      ]
    },
    {
      "cell_type": "code",
      "source": [
        "liste = [12, 4, 9, 25, 30, 7, 18]\n",
        "\n",
        "ortalama = sum(liste) / len(liste)\n",
        "print(f\"Listenin ortalaması: {ortalama}\")\n",
        "\n",
        "buyuk_sayilar = []\n",
        "for sayi in liste:\n",
        "    if sayi > ortalama:\n",
        "        buyuk_sayilar.append(sayi)\n",
        "\n",
        "print(f\"Ortalamadan büyük sayılar: {buyuk_sayilar}\")"
      ],
      "metadata": {
        "colab": {
          "base_uri": "https://localhost:8080/"
        },
        "id": "Sk7YLVrhZq9q",
        "outputId": "4c90a688-0043-42be-82e7-53482082f816"
      },
      "execution_count": 7,
      "outputs": [
        {
          "output_type": "stream",
          "name": "stdout",
          "text": [
            "Listenin ortalaması: 15.0\n",
            "Ortalamadan büyük sayılar: [25, 30, 18]\n"
          ]
        }
      ]
    },
    {
      "cell_type": "code",
      "source": [
        "satir_sayisi = 5\n",
        "for i in range(1, satir_sayisi + 1):\n",
        "    print(\"*\" * i)"
      ],
      "metadata": {
        "colab": {
          "base_uri": "https://localhost:8080/"
        },
        "id": "2XAKMijGZz6a",
        "outputId": "59415f6a-01b1-44ee-8b5c-764db6dbe6c2"
      },
      "execution_count": 8,
      "outputs": [
        {
          "output_type": "stream",
          "name": "stdout",
          "text": [
            "*\n",
            "**\n",
            "***\n",
            "****\n",
            "*****\n"
          ]
        }
      ]
    },
    {
      "cell_type": "code",
      "source": [
        "toplam = 0\n",
        "sayi_adedi = 0\n",
        "\n",
        "while True:\n",
        "    sayi = int(input(\"Bir sayı giriniz (Çıkmak için 0'a basın): \"))\n",
        "    if sayi == 0:\n",
        "        break\n",
        "\n",
        "    toplam += sayi\n",
        "    sayi_adedi += 1\n",
        "\n",
        "if sayi_adedi > 0:\n",
        "    ortalama = toplam / sayi_adedi\n",
        "    print(f\"Girilen sayıların toplamı: {toplam}\")\n",
        "    print(f\"Girilen sayıların ortalaması: {ortalama}\")\n",
        "else:\n",
        "    print(\"Hiç sayı girilmedi.\")"
      ],
      "metadata": {
        "colab": {
          "base_uri": "https://localhost:8080/"
        },
        "id": "Q8xqFesPaC4b",
        "outputId": "80e35ed1-e01e-45c1-b4c9-53072ecb8aee"
      },
      "execution_count": 9,
      "outputs": [
        {
          "output_type": "stream",
          "name": "stdout",
          "text": [
            "Bir sayı giriniz (Çıkmak için 0'a basın): 7\n",
            "Bir sayı giriniz (Çıkmak için 0'a basın): 0\n",
            "Girilen sayıların toplamı: 7\n",
            "Girilen sayıların ortalaması: 7.0\n"
          ]
        }
      ]
    },
    {
      "cell_type": "code",
      "source": [
        "kelime = input(\"Kontrol edilecek kelimeyi giriniz: \")\n",
        "\n",
        "ters_kelime = kelime[::-1]\n",
        "if kelime == ters_kelime:\n",
        "    print(f\"'{kelime}' bir palindromdur. ✅\")\n",
        "else:\n",
        "    print(f\"'{kelime}' bir palindrom değildir. ❌\")"
      ],
      "metadata": {
        "colab": {
          "base_uri": "https://localhost:8080/"
        },
        "id": "oeGtYCoQaIQL",
        "outputId": "2e64d18e-098a-4414-d90b-2e57359f1ce2"
      },
      "execution_count": 10,
      "outputs": [
        {
          "output_type": "stream",
          "name": "stdout",
          "text": [
            "Kontrol edilecek kelimeyi giriniz: hello\n",
            "'hello' bir palindrom değildir. ❌\n"
          ]
        }
      ]
    },
    {
      "cell_type": "code",
      "source": [
        "kareler_listesi = [sayi**2 for sayi in range(1, 101) if sayi % 15 == 0]\n",
        "print(kareler_listesi)"
      ],
      "metadata": {
        "colab": {
          "base_uri": "https://localhost:8080/"
        },
        "id": "SbwzEfUdaPYD",
        "outputId": "ceb0c723-183e-4fbd-b1d8-d9feaf72f054"
      },
      "execution_count": 11,
      "outputs": [
        {
          "output_type": "stream",
          "name": "stdout",
          "text": [
            "[225, 900, 2025, 3600, 5625, 8100]\n"
          ]
        }
      ]
    },
    {
      "cell_type": "code",
      "source": [
        "cumle = input(\"Lütfen bir cümle giriniz: \")\n",
        "kelimeler = cumle.split()\n",
        "yeni_kelimeler = [kelime.capitalize() for kelime in kelimeler]\n",
        "yeni_cumle = \" \".join(yeni_kelimeler)\n",
        "\n",
        "print(yeni_cumle)"
      ],
      "metadata": {
        "colab": {
          "base_uri": "https://localhost:8080/"
        },
        "id": "YTr3d4jjaUK1",
        "outputId": "26ef0c06-12cd-4e35-a293-bd3325a1091d"
      },
      "execution_count": 12,
      "outputs": [
        {
          "output_type": "stream",
          "name": "stdout",
          "text": [
            "Lütfen bir cümle giriniz: merhaba nasılsın\n",
            "Merhaba Nasılsın\n"
          ]
        }
      ]
    },
    {
      "cell_type": "code",
      "source": [
        "yorumlar = []\n",
        "yorum_sayisi = 5\n",
        "\n",
        "print(f\"Lütfen {yorum_sayisi} adet film yorumu giriniz.\")\n",
        "for i in range(yorum_sayisi):\n",
        "    yorum = input(f\"{i+1}. yorum: \")\n",
        "    yorumlar.append(yorum)\n",
        "\n",
        "print(f\"\\nToplam yorum sayısı: {len(yorumlar)}\")\n",
        "iyi_sayisi = 0\n",
        "for yorum in yorumlar:\n",
        "    if \"iyi\" in yorum.lower():\n",
        "        iyi_sayisi += 1\n",
        "print(f\"'iyi' geçen yorum sayısı: {iyi_sayisi}\")\n",
        "\n",
        "en_uzun_yorum = max(yorumlar, key=len)\n",
        "en_kisa_yorum = min(yorumlar, key=len)\n",
        "print(f\"En uzun yorum: {en_uzun_yorum}\")\n",
        "print(f\"En kısa yorum: {en_kisa_yorum}\")\n",
        "\n",
        "toplam_uzunluk = sum(len(yorum) for yorum in yorumlar)\n",
        "ortalama_uzunluk = toplam_uzunluk / len(yorumlar)\n",
        "print(f\"Ortalama uzunluk: {ortalama_uzunluk:.1f} karakter\")\n",
        "\n",
        "print(\"\\nHer yorumun karakter sayısı:\")\n",
        "for i, yorum in enumerate(yorumlar):\n",
        "    print(f\"{i+1}. yorum: {len(yorum)} karakter\")"
      ],
      "metadata": {
        "colab": {
          "base_uri": "https://localhost:8080/"
        },
        "id": "yv7cNSbPaaKc",
        "outputId": "bda781c0-5b0e-445d-897f-d7e4a9cc024b"
      },
      "execution_count": 14,
      "outputs": [
        {
          "output_type": "stream",
          "name": "stdout",
          "text": [
            "Lütfen 5 adet film yorumu giriniz.\n",
            "1. yorum: kötüydü\n",
            "2. yorum: iyiydi\n",
            "3. yorum: berbattı\n",
            "4. yorum: kötü mü iyi mi bilemedim\n",
            "5. yorum: iyi\n",
            "\n",
            "Toplam yorum sayısı: 5\n",
            "'iyi' geçen yorum sayısı: 3\n",
            "En uzun yorum: kötü mü iyi mi bilemedim\n",
            "En kısa yorum: iyi\n",
            "Ortalama uzunluk: 9.6 karakter\n",
            "\n",
            "Her yorumun karakter sayısı:\n",
            "1. yorum: 7 karakter\n",
            "2. yorum: 6 karakter\n",
            "3. yorum: 8 karakter\n",
            "4. yorum: 24 karakter\n",
            "5. yorum: 3 karakter\n"
          ]
        }
      ]
    }
  ]
}